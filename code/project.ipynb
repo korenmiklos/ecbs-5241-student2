{
 "cells": [
  {
   "cell_type": "markdown",
   "metadata": {},
   "source": [
    "## Final project \n",
    "For this  project I use dataset from Kaggle  available  at \"https://www.kaggle.com/russellyates88/suicide-rates-overview-1985-to-2016\". I will extract list of countries and generations from the data"
   ]
  },
  {
   "cell_type": "code",
   "execution_count": 1,
   "metadata": {},
   "outputs": [],
   "source": [
    "import csv"
   ]
  },
  {
   "cell_type": "code",
   "execution_count": 2,
   "metadata": {},
   "outputs": [],
   "source": [
    "data = open('../data/raw/master.csv')\n",
    "csv_data = csv.reader(data)"
   ]
  },
  {
   "cell_type": "code",
   "execution_count": 3,
   "metadata": {},
   "outputs": [],
   "source": [
    "country_list = []\n",
    "for row in csv_data:\n",
    "  country_list.append(row[0])"
   ]
  },
  {
   "cell_type": "code",
   "execution_count": 4,
   "metadata": {},
   "outputs": [],
   "source": [
    "data = open('../data/raw/master.csv')\n",
    "csv_data = csv.reader(data)\n",
    "generation_list = []\n",
    "for row in csv_data:\n",
    "  generation_list.append(row[-1])"
   ]
  },
  {
   "cell_type": "code",
   "execution_count": 5,
   "metadata": {},
   "outputs": [
    {
     "data": {
      "text/plain": [
       "list"
      ]
     },
     "execution_count": 5,
     "metadata": {},
     "output_type": "execute_result"
    }
   ],
   "source": [
    "type(country_list)"
   ]
  },
  {
   "cell_type": "code",
   "execution_count": 6,
   "metadata": {},
   "outputs": [
    {
     "data": {
      "text/plain": [
       "'ï»¿country'"
      ]
     },
     "execution_count": 6,
     "metadata": {},
     "output_type": "execute_result"
    }
   ],
   "source": [
    "country_list.pop(0)"
   ]
  },
  {
   "cell_type": "code",
   "execution_count": 7,
   "metadata": {},
   "outputs": [
    {
     "data": {
      "text/plain": [
       "'generation'"
      ]
     },
     "execution_count": 7,
     "metadata": {},
     "output_type": "execute_result"
    }
   ],
   "source": [
    "generation_list.pop(0)"
   ]
  },
  {
   "cell_type": "code",
   "execution_count": 8,
   "metadata": {},
   "outputs": [],
   "source": [
    "def word_count(words):\n",
    "    counter={}\n",
    "    for word in words:\n",
    "        if word in counter:\n",
    "            counter[word]=counter[word]+1\n",
    "        else:\n",
    "            counter[word]=1\n",
    "    return counter"
   ]
  },
  {
   "cell_type": "code",
   "execution_count": 9,
   "metadata": {},
   "outputs": [],
   "source": [
    "Countries=word_count(country_list)\n",
    "Generations=word_count(generation_list)"
   ]
  },
  {
   "cell_type": "code",
   "execution_count": 10,
   "metadata": {},
   "outputs": [],
   "source": [
    "def write_csv(filename, Countries):\n",
    "    with open(filename, 'wt') as textfile:\n",
    "        textfile.write('name,count\\n')\n",
    "        for country in Countries:\n",
    "            textfile.write(country + ',' + str(Countries[country]) + '\\n')\n",
    "    print('Outside the \"with\", file is closed.')"
   ]
  },
  {
   "cell_type": "code",
   "execution_count": 11,
   "metadata": {},
   "outputs": [
    {
     "name": "stdout",
     "output_type": "stream",
     "text": [
      "Outside the \"with\", file is closed.\n",
      "Outside the \"with\", file is closed.\n"
     ]
    }
   ],
   "source": [
    "write_csv('../data/derived/listofCountries.csv', Countries)\n",
    "write_csv('../data/derived/listofGenerations.csv', Generations)"
   ]
  },
  {
   "cell_type": "code",
   "execution_count": 12,
   "metadata": {},
   "outputs": [],
   "source": [
    "country = open('../data/derived/listofCountries.csv')\n",
    "csv_country = csv.reader(country)"
   ]
  },
  {
   "cell_type": "code",
   "execution_count": 13,
   "metadata": {},
   "outputs": [],
   "source": [
    "generation = open('../data/derived/listofGenerations.csv')\n",
    "csv_generation = csv.reader(generation)"
   ]
  },
  {
   "cell_type": "code",
   "execution_count": 14,
   "metadata": {},
   "outputs": [
    {
     "name": "stdout",
     "output_type": "stream",
     "text": [
      "['name', 'count']\n",
      "['Generation X', '6408']\n",
      "['Silent', '6364']\n",
      "['G.I. Generation', '2744']\n",
      "['Boomers', '4990']\n",
      "['Millenials', '5844']\n",
      "['Generation Z', '1470']\n"
     ]
    }
   ],
   "source": [
    "for row in csv_generation:\n",
    "    print(row)"
   ]
  },
  {
   "cell_type": "code",
   "execution_count": 15,
   "metadata": {},
   "outputs": [
    {
     "name": "stdout",
     "output_type": "stream",
     "text": [
      "name\n",
      "Albania\n",
      "Antigua and Barbuda\n",
      "Argentina\n",
      "Armenia\n",
      "Aruba\n",
      "Australia\n",
      "Austria\n",
      "Azerbaijan\n",
      "Bahamas\n",
      "Bahrain\n",
      "Barbados\n",
      "Belarus\n",
      "Belgium\n",
      "Belize\n",
      "Bosnia and Herzegovina\n",
      "Brazil\n",
      "Bulgaria\n",
      "Cabo Verde\n",
      "Canada\n",
      "Chile\n",
      "Colombia\n",
      "Costa Rica\n",
      "Croatia\n",
      "Cuba\n",
      "Cyprus\n",
      "Czech Republic\n",
      "Denmark\n",
      "Dominica\n",
      "Ecuador\n",
      "El Salvador\n",
      "Estonia\n",
      "Fiji\n",
      "Finland\n",
      "France\n",
      "Georgia\n",
      "Germany\n",
      "Greece\n",
      "Grenada\n",
      "Guatemala\n",
      "Guyana\n",
      "Hungary\n",
      "Iceland\n",
      "Ireland\n",
      "Israel\n",
      "Italy\n",
      "Jamaica\n",
      "Japan\n",
      "Kazakhstan\n",
      "Kiribati\n",
      "Kuwait\n",
      "Kyrgyzstan\n",
      "Latvia\n",
      "Lithuania\n",
      "Luxembourg\n",
      "Macau\n",
      "Maldives\n",
      "Malta\n",
      "Mauritius\n",
      "Mexico\n",
      "Mongolia\n",
      "Montenegro\n",
      "Netherlands\n",
      "New Zealand\n",
      "Nicaragua\n",
      "Norway\n",
      "Oman\n",
      "Panama\n",
      "Paraguay\n",
      "Philippines\n",
      "Poland\n",
      "Portugal\n",
      "Puerto Rico\n",
      "Qatar\n",
      "Republic of Korea\n",
      "Romania\n",
      "Russian Federation\n",
      "Saint Kitts and Nevis\n",
      "Saint Lucia\n",
      "Saint Vincent and Grenadines\n",
      "San Marino\n",
      "Serbia\n",
      "Seychelles\n",
      "Singapore\n",
      "Slovakia\n",
      "Slovenia\n",
      "South Africa\n",
      "Spain\n",
      "Sri Lanka\n",
      "Suriname\n",
      "Sweden\n",
      "Switzerland\n",
      "Thailand\n",
      "Trinidad and Tobago\n",
      "Turkey\n",
      "Turkmenistan\n",
      "Ukraine\n",
      "United Arab Emirates\n",
      "United Kingdom\n",
      "United States\n",
      "Uruguay\n",
      "Uzbekistan\n"
     ]
    }
   ],
   "source": [
    "for row in csv_country:\n",
    "    print(row[0])"
   ]
  },
  {
   "cell_type": "code",
   "execution_count": null,
   "metadata": {},
   "outputs": [],
   "source": []
  }
 ],
 "metadata": {
  "kernelspec": {
   "display_name": "Python 3",
   "language": "python",
   "name": "python3"
  },
  "language_info": {
   "codemirror_mode": {
    "name": "ipython",
    "version": 3
   },
   "file_extension": ".py",
   "mimetype": "text/x-python",
   "name": "python",
   "nbconvert_exporter": "python",
   "pygments_lexer": "ipython3",
   "version": "3.8.3"
  }
 },
 "nbformat": 4,
 "nbformat_minor": 4
}
